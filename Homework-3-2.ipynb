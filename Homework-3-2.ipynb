{
 "cells": [
  {
   "cell_type": "markdown",
   "metadata": {},
   "source": [
    "# Analyzing Hotel Ratings on Tripadvisor"
   ]
  },
  {
   "cell_type": "markdown",
   "metadata": {},
   "source": [
    "In this homework, we will analyze the data we scraped in Part 1 by fitting a regression model on the data."
   ]
  },
  {
   "cell_type": "markdown",
   "metadata": {},
   "source": [
    "** Task 1 (20 pts) **\n",
    "\n",
    "Now, we will use regression to analyze this information. First, we will fit a linear regression model that predicts the average rating.\n",
    "\n",
    "For example, the average rating of a hotel is calculated as follows:\n",
    "\n",
    "![Information to be scraped](traveler_ratings.png)\n",
    "\n",
    "$$ \\text{AVG_SCORE} = \\frac{1*15 + 2*21 + 3*55 + 4*228 + 5*1271}{1590}$$\n",
    "\n",
    "Use the model to analyze the important factors that decide the $\\text{AVG_SCORE}$."
   ]
  },
  {
   "cell_type": "code",
   "execution_count": 1,
   "metadata": {
    "collapsed": true
   },
   "outputs": [],
   "source": [
    "import csv\n",
    "import numpy as np \n",
    "import pandas as pd"
   ]
  },
  {
   "cell_type": "code",
   "execution_count": 4,
   "metadata": {
    "collapsed": false
   },
   "outputs": [
    {
     "data": {
      "text/html": [
       "<div>\n",
       "<table border=\"1\" class=\"dataframe\">\n",
       "  <thead>\n",
       "    <tr style=\"text-align: right;\">\n",
       "      <th></th>\n",
       "      <th>hotel_name</th>\n",
       "      <th>rating</th>\n",
       "      <th>count</th>\n",
       "    </tr>\n",
       "  </thead>\n",
       "  <tbody>\n",
       "    <tr>\n",
       "      <th>0</th>\n",
       "      <td>Marriott Vacation Club Pulse at Custom House, ...</td>\n",
       "      <td>Excellent</td>\n",
       "      <td>507</td>\n",
       "    </tr>\n",
       "    <tr>\n",
       "      <th>1</th>\n",
       "      <td>Marriott Vacation Club Pulse at Custom House, ...</td>\n",
       "      <td>Very good</td>\n",
       "      <td>175</td>\n",
       "    </tr>\n",
       "    <tr>\n",
       "      <th>2</th>\n",
       "      <td>Marriott Vacation Club Pulse at Custom House, ...</td>\n",
       "      <td>Average</td>\n",
       "      <td>13</td>\n",
       "    </tr>\n",
       "    <tr>\n",
       "      <th>3</th>\n",
       "      <td>Marriott Vacation Club Pulse at Custom House, ...</td>\n",
       "      <td>Poor</td>\n",
       "      <td>13</td>\n",
       "    </tr>\n",
       "    <tr>\n",
       "      <th>4</th>\n",
       "      <td>Marriott Vacation Club Pulse at Custom House, ...</td>\n",
       "      <td>Terrible</td>\n",
       "      <td>12</td>\n",
       "    </tr>\n",
       "  </tbody>\n",
       "</table>\n",
       "</div>"
      ],
      "text/plain": [
       "                                          hotel_name     rating count\n",
       "0  Marriott Vacation Club Pulse at Custom House, ...  Excellent   507\n",
       "1  Marriott Vacation Club Pulse at Custom House, ...  Very good   175\n",
       "2  Marriott Vacation Club Pulse at Custom House, ...    Average    13\n",
       "3  Marriott Vacation Club Pulse at Custom House, ...       Poor    13\n",
       "4  Marriott Vacation Club Pulse at Custom House, ...   Terrible    12"
      ]
     },
     "execution_count": 4,
     "metadata": {},
     "output_type": "execute_result"
    }
   ],
   "source": [
    "# Read in trabeler_ratings.csv\n",
    "df_rating = pd.read_csv('traveler_ratings.csv')\n",
    "df_rating.head()"
   ]
  },
  {
   "cell_type": "code",
   "execution_count": 5,
   "metadata": {
    "collapsed": false
   },
   "outputs": [
    {
     "data": {
      "text/html": [
       "<div>\n",
       "<table border=\"1\" class=\"dataframe\">\n",
       "  <thead>\n",
       "    <tr style=\"text-align: right;\">\n",
       "      <th></th>\n",
       "      <th>hotel_name</th>\n",
       "      <th>attribute</th>\n",
       "      <th>star_value</th>\n",
       "    </tr>\n",
       "  </thead>\n",
       "  <tbody>\n",
       "    <tr>\n",
       "      <th>0</th>\n",
       "      <td>Marriott Vacation Club Pulse at Custom House, ...</td>\n",
       "      <td>Location</td>\n",
       "      <td>5</td>\n",
       "    </tr>\n",
       "    <tr>\n",
       "      <th>1</th>\n",
       "      <td>Marriott Vacation Club Pulse at Custom House, ...</td>\n",
       "      <td>Rooms</td>\n",
       "      <td>5</td>\n",
       "    </tr>\n",
       "    <tr>\n",
       "      <th>2</th>\n",
       "      <td>Marriott Vacation Club Pulse at Custom House, ...</td>\n",
       "      <td>Service</td>\n",
       "      <td>5</td>\n",
       "    </tr>\n",
       "    <tr>\n",
       "      <th>3</th>\n",
       "      <td>Marriott Vacation Club Pulse at Custom House, ...</td>\n",
       "      <td>Value</td>\n",
       "      <td>5</td>\n",
       "    </tr>\n",
       "    <tr>\n",
       "      <th>4</th>\n",
       "      <td>Marriott Vacation Club Pulse at Custom House, ...</td>\n",
       "      <td>Sleep Quality</td>\n",
       "      <td>5</td>\n",
       "    </tr>\n",
       "  </tbody>\n",
       "</table>\n",
       "</div>"
      ],
      "text/plain": [
       "                                          hotel_name      attribute  \\\n",
       "0  Marriott Vacation Club Pulse at Custom House, ...       Location   \n",
       "1  Marriott Vacation Club Pulse at Custom House, ...          Rooms   \n",
       "2  Marriott Vacation Club Pulse at Custom House, ...        Service   \n",
       "3  Marriott Vacation Club Pulse at Custom House, ...          Value   \n",
       "4  Marriott Vacation Club Pulse at Custom House, ...  Sleep Quality   \n",
       "\n",
       "   star_value  \n",
       "0           5  \n",
       "1           5  \n",
       "2           5  \n",
       "3           5  \n",
       "4           5  "
      ]
     },
     "execution_count": 5,
     "metadata": {},
     "output_type": "execute_result"
    }
   ],
   "source": [
    "# store travel_ratings in dataframe\n",
    "df_attr = pd.read_csv('attribute_ratings.csv', usecols = ['hotel_name', 'attribute', 'star_value'])\n",
    "df_attr.head()"
   ]
  },
  {
   "cell_type": "code",
   "execution_count": 4,
   "metadata": {
    "collapsed": false
   },
   "outputs": [
    {
     "name": "stdout",
     "output_type": "stream",
     "text": [
      "number of hotels in travel_ratings.csv: 82\n",
      "number of hotels in attribute_ratings.csv: 82\n"
     ]
    }
   ],
   "source": [
    "print ('number of hotels in travel_ratings.csv: %d'%(df_rating.hotel_name.unique().shape[0]))\n",
    "print ('number of hotels in attribute_ratings.csv: %d'%(df_attr.hotel_name.unique().shape[0]))"
   ]
  },
  {
   "cell_type": "code",
   "execution_count": 107,
   "metadata": {
    "collapsed": false
   },
   "outputs": [],
   "source": [
    "# Compute average score for each hotel and whether a hotel is excellent on one go\n",
    "avg_score = {}\n",
    "tmp = {}\n",
    "excellence = {}\n",
    "for row in df_rating.itertuples():\n",
    "    if row.hotel_name not in avg_score:\n",
    "        avg_score[row.hotel_name] = 0\n",
    "        excellence[row.hotel_name] = 0\n",
    "    tmp[row.rating] = int(row.count.replace(',', ''))\n",
    "    \n",
    "    if len(tmp)==5:\n",
    "        avg_score[row.hotel_name] = (1*tmp['Terrible'] + 2*tmp['Poor'] + 3*tmp['Average'] + 4*tmp['Very good'] + 5*tmp['Excellent'])/sum(tmp.values())\n",
    "        if (tmp['Excellent']/sum(tmp.values()) >= 0.6):\n",
    "            excellence[row.hotel_name] = 1\n",
    "        tmp = {}"
   ]
  },
  {
   "cell_type": "code",
   "execution_count": 7,
   "metadata": {
    "collapsed": false
   },
   "outputs": [
    {
     "data": {
      "text/plain": [
       "Aloft Boston Seaport                             3.949686\n",
       "Americas Best Value Inn                          2.850000\n",
       "Ames Boston Hotel, Curio Collection by Hilton    4.283757\n",
       "BEST WESTERN PLUS Roundhouse Suites              3.686801\n",
       "Battery Wharf Hotel, Boston Waterfront           4.420423\n",
       "dtype: float64"
      ]
     },
     "execution_count": 7,
     "metadata": {},
     "output_type": "execute_result"
    }
   ],
   "source": [
    "# store avg_score in a Series\n",
    "df_avg_score = pd.Series(avg_score)\n",
    "df_avg_score.head()"
   ]
  },
  {
   "cell_type": "code",
   "execution_count": 8,
   "metadata": {
    "collapsed": true
   },
   "outputs": [],
   "source": [
    "attribute = ['Location', 'Rooms', 'Service', 'Cleanliness', 'Value', 'Sleep Quality']\n",
    "grouped = df_attr.groupby('hotel_name')"
   ]
  },
  {
   "cell_type": "code",
   "execution_count": 9,
   "metadata": {
    "collapsed": false
   },
   "outputs": [],
   "source": [
    "# Compute average attribute rating for each hotel\n",
    "attr_rating = {}\n",
    "for hotel_name, group in grouped:\n",
    "    attr_rating[hotel_name] = {}\n",
    "    attrs = group.attribute.unique()\n",
    "    for attr in attrs:\n",
    "        attr_rating[hotel_name][attr] = group[group.attribute==attr].star_value.mean()"
   ]
  },
  {
   "cell_type": "code",
   "execution_count": 11,
   "metadata": {
    "collapsed": false
   },
   "outputs": [
    {
     "data": {
      "text/html": [
       "<div>\n",
       "<table border=\"1\" class=\"dataframe\">\n",
       "  <thead>\n",
       "    <tr style=\"text-align: right;\">\n",
       "      <th></th>\n",
       "      <th>Cleanliness</th>\n",
       "      <th>Location</th>\n",
       "      <th>Service</th>\n",
       "      <th>Sleep Quality</th>\n",
       "      <th>Value</th>\n",
       "      <th>Rooms</th>\n",
       "    </tr>\n",
       "  </thead>\n",
       "  <tbody>\n",
       "    <tr>\n",
       "      <th>Aloft Boston Seaport</th>\n",
       "      <td>4.523810</td>\n",
       "      <td>3.970588</td>\n",
       "      <td>4.258824</td>\n",
       "      <td>4.518519</td>\n",
       "      <td>3.705882</td>\n",
       "      <td>3.967742</td>\n",
       "    </tr>\n",
       "    <tr>\n",
       "      <th>Americas Best Value Inn</th>\n",
       "      <td>2.818182</td>\n",
       "      <td>2.666667</td>\n",
       "      <td>2.846154</td>\n",
       "      <td>3.000000</td>\n",
       "      <td>2.818182</td>\n",
       "      <td>2.692308</td>\n",
       "    </tr>\n",
       "    <tr>\n",
       "      <th>Ames Boston Hotel, Curio Collection by Hilton</th>\n",
       "      <td>4.636228</td>\n",
       "      <td>4.765550</td>\n",
       "      <td>4.376513</td>\n",
       "      <td>4.273171</td>\n",
       "      <td>4.017417</td>\n",
       "      <td>4.404120</td>\n",
       "    </tr>\n",
       "    <tr>\n",
       "      <th>BEST WESTERN PLUS Roundhouse Suites</th>\n",
       "      <td>4.186186</td>\n",
       "      <td>3.236593</td>\n",
       "      <td>4.100785</td>\n",
       "      <td>3.880131</td>\n",
       "      <td>3.923994</td>\n",
       "      <td>4.052960</td>\n",
       "    </tr>\n",
       "    <tr>\n",
       "      <th>Battery Wharf Hotel, Boston Waterfront</th>\n",
       "      <td>4.737550</td>\n",
       "      <td>4.586835</td>\n",
       "      <td>4.463929</td>\n",
       "      <td>4.597561</td>\n",
       "      <td>4.020661</td>\n",
       "      <td>4.555079</td>\n",
       "    </tr>\n",
       "  </tbody>\n",
       "</table>\n",
       "</div>"
      ],
      "text/plain": [
       "                                               Cleanliness  Location  \\\n",
       "Aloft Boston Seaport                              4.523810  3.970588   \n",
       "Americas Best Value Inn                           2.818182  2.666667   \n",
       "Ames Boston Hotel, Curio Collection by Hilton     4.636228  4.765550   \n",
       "BEST WESTERN PLUS Roundhouse Suites               4.186186  3.236593   \n",
       "Battery Wharf Hotel, Boston Waterfront            4.737550  4.586835   \n",
       "\n",
       "                                                Service  Sleep Quality  \\\n",
       "Aloft Boston Seaport                           4.258824       4.518519   \n",
       "Americas Best Value Inn                        2.846154       3.000000   \n",
       "Ames Boston Hotel, Curio Collection by Hilton  4.376513       4.273171   \n",
       "BEST WESTERN PLUS Roundhouse Suites            4.100785       3.880131   \n",
       "Battery Wharf Hotel, Boston Waterfront         4.463929       4.597561   \n",
       "\n",
       "                                                  Value     Rooms  \n",
       "Aloft Boston Seaport                           3.705882  3.967742  \n",
       "Americas Best Value Inn                        2.818182  2.692308  \n",
       "Ames Boston Hotel, Curio Collection by Hilton  4.017417  4.404120  \n",
       "BEST WESTERN PLUS Roundhouse Suites            3.923994  4.052960  \n",
       "Battery Wharf Hotel, Boston Waterfront         4.020661  4.555079  "
      ]
     },
     "execution_count": 11,
     "metadata": {},
     "output_type": "execute_result"
    }
   ],
   "source": [
    "# store average attribute ratings in a DataFrame\n",
    "df_attr_rating = pd.DataFrame.from_dict(attr_rating, orient='index')\n",
    "df_attr_rating.head()"
   ]
  },
  {
   "cell_type": "code",
   "execution_count": 12,
   "metadata": {
    "collapsed": false
   },
   "outputs": [
    {
     "data": {
      "text/html": [
       "<div>\n",
       "<table border=\"1\" class=\"dataframe\">\n",
       "  <thead>\n",
       "    <tr style=\"text-align: right;\">\n",
       "      <th></th>\n",
       "      <th>Cleanliness</th>\n",
       "      <th>Location</th>\n",
       "      <th>Service</th>\n",
       "      <th>Sleep Quality</th>\n",
       "      <th>Value</th>\n",
       "      <th>Rooms</th>\n",
       "      <th>avg_score</th>\n",
       "      <th>intercept</th>\n",
       "    </tr>\n",
       "  </thead>\n",
       "  <tbody>\n",
       "    <tr>\n",
       "      <th>Aloft Boston Seaport</th>\n",
       "      <td>4.523810</td>\n",
       "      <td>3.970588</td>\n",
       "      <td>4.258824</td>\n",
       "      <td>4.518519</td>\n",
       "      <td>3.705882</td>\n",
       "      <td>3.967742</td>\n",
       "      <td>3.949686</td>\n",
       "      <td>1.0</td>\n",
       "    </tr>\n",
       "    <tr>\n",
       "      <th>Americas Best Value Inn</th>\n",
       "      <td>2.818182</td>\n",
       "      <td>2.666667</td>\n",
       "      <td>2.846154</td>\n",
       "      <td>3.000000</td>\n",
       "      <td>2.818182</td>\n",
       "      <td>2.692308</td>\n",
       "      <td>2.850000</td>\n",
       "      <td>1.0</td>\n",
       "    </tr>\n",
       "    <tr>\n",
       "      <th>Ames Boston Hotel, Curio Collection by Hilton</th>\n",
       "      <td>4.636228</td>\n",
       "      <td>4.765550</td>\n",
       "      <td>4.376513</td>\n",
       "      <td>4.273171</td>\n",
       "      <td>4.017417</td>\n",
       "      <td>4.404120</td>\n",
       "      <td>4.283757</td>\n",
       "      <td>1.0</td>\n",
       "    </tr>\n",
       "    <tr>\n",
       "      <th>BEST WESTERN PLUS Roundhouse Suites</th>\n",
       "      <td>4.186186</td>\n",
       "      <td>3.236593</td>\n",
       "      <td>4.100785</td>\n",
       "      <td>3.880131</td>\n",
       "      <td>3.923994</td>\n",
       "      <td>4.052960</td>\n",
       "      <td>3.686801</td>\n",
       "      <td>1.0</td>\n",
       "    </tr>\n",
       "    <tr>\n",
       "      <th>Battery Wharf Hotel, Boston Waterfront</th>\n",
       "      <td>4.737550</td>\n",
       "      <td>4.586835</td>\n",
       "      <td>4.463929</td>\n",
       "      <td>4.597561</td>\n",
       "      <td>4.020661</td>\n",
       "      <td>4.555079</td>\n",
       "      <td>4.420423</td>\n",
       "      <td>1.0</td>\n",
       "    </tr>\n",
       "  </tbody>\n",
       "</table>\n",
       "</div>"
      ],
      "text/plain": [
       "                                               Cleanliness  Location  \\\n",
       "Aloft Boston Seaport                              4.523810  3.970588   \n",
       "Americas Best Value Inn                           2.818182  2.666667   \n",
       "Ames Boston Hotel, Curio Collection by Hilton     4.636228  4.765550   \n",
       "BEST WESTERN PLUS Roundhouse Suites               4.186186  3.236593   \n",
       "Battery Wharf Hotel, Boston Waterfront            4.737550  4.586835   \n",
       "\n",
       "                                                Service  Sleep Quality  \\\n",
       "Aloft Boston Seaport                           4.258824       4.518519   \n",
       "Americas Best Value Inn                        2.846154       3.000000   \n",
       "Ames Boston Hotel, Curio Collection by Hilton  4.376513       4.273171   \n",
       "BEST WESTERN PLUS Roundhouse Suites            4.100785       3.880131   \n",
       "Battery Wharf Hotel, Boston Waterfront         4.463929       4.597561   \n",
       "\n",
       "                                                  Value     Rooms  avg_score  \\\n",
       "Aloft Boston Seaport                           3.705882  3.967742   3.949686   \n",
       "Americas Best Value Inn                        2.818182  2.692308   2.850000   \n",
       "Ames Boston Hotel, Curio Collection by Hilton  4.017417  4.404120   4.283757   \n",
       "BEST WESTERN PLUS Roundhouse Suites            3.923994  4.052960   3.686801   \n",
       "Battery Wharf Hotel, Boston Waterfront         4.020661  4.555079   4.420423   \n",
       "\n",
       "                                               intercept  \n",
       "Aloft Boston Seaport                                 1.0  \n",
       "Americas Best Value Inn                              1.0  \n",
       "Ames Boston Hotel, Curio Collection by Hilton        1.0  \n",
       "BEST WESTERN PLUS Roundhouse Suites                  1.0  \n",
       "Battery Wharf Hotel, Boston Waterfront               1.0  "
      ]
     },
     "execution_count": 12,
     "metadata": {},
     "output_type": "execute_result"
    }
   ],
   "source": [
    "# Add a constant column\n",
    "df_attr_rating['avg_score'] = df_avg_score\n",
    "df_attr_rating['intercept'] = 1.0\n",
    "df_attr_rating.head()"
   ]
  },
  {
   "cell_type": "code",
   "execution_count": 13,
   "metadata": {
    "collapsed": true
   },
   "outputs": [],
   "source": [
    "import statsmodels.api as sm"
   ]
  },
  {
   "cell_type": "code",
   "execution_count": 15,
   "metadata": {
    "collapsed": false
   },
   "outputs": [],
   "source": [
    "# Get dependent and independent variables\n",
    "X = df_attr_rating[attribute+['intercept']]\n",
    "y = df_attr_rating['avg_score']"
   ]
  },
  {
   "cell_type": "code",
   "execution_count": 65,
   "metadata": {
    "collapsed": false
   },
   "outputs": [],
   "source": [
    "# splite data to train and test sets, with 7:3 ratio\n",
    "from sklearn.cross_validation import train_test_split\n",
    "X_train, X_test, y_train, y_test = train_test_split(X, y, test_size=0.3, random_state=0)"
   ]
  },
  {
   "cell_type": "code",
   "execution_count": 68,
   "metadata": {
    "collapsed": false
   },
   "outputs": [
    {
     "name": "stdout",
     "output_type": "stream",
     "text": [
      "                            OLS Regression Results                            \n",
      "==============================================================================\n",
      "Dep. Variable:              avg_score   R-squared:                       0.973\n",
      "Model:                            OLS   Adj. R-squared:                  0.970\n",
      "Method:                 Least Squares   F-statistic:                     304.2\n",
      "Date:                Thu, 17 Nov 2016   Prob (F-statistic):           1.49e-37\n",
      "Time:                        18:48:56   Log-Likelihood:                 66.777\n",
      "No. Observations:                  57   AIC:                            -119.6\n",
      "Df Residuals:                      50   BIC:                            -105.3\n",
      "Df Model:                           6                                         \n",
      "Covariance Type:            nonrobust                                         \n",
      "=================================================================================\n",
      "                    coef    std err          t      P>|t|      [95.0% Conf. Int.]\n",
      "---------------------------------------------------------------------------------\n",
      "Location          0.1347      0.036      3.787      0.000         0.063     0.206\n",
      "Rooms             0.3731      0.079      4.745      0.000         0.215     0.531\n",
      "Service           0.2640      0.114      2.313      0.025         0.035     0.493\n",
      "Cleanliness       0.1206      0.090      1.343      0.185        -0.060     0.301\n",
      "Value             0.1236      0.071      1.731      0.090        -0.020     0.267\n",
      "Sleep Quality     0.0888      0.094      0.948      0.348        -0.099     0.277\n",
      "intercept        -0.5431      0.148     -3.680      0.001        -0.840    -0.247\n",
      "==============================================================================\n",
      "Omnibus:                       20.645   Durbin-Watson:                   2.602\n",
      "Prob(Omnibus):                  0.000   Jarque-Bera (JB):               61.547\n",
      "Skew:                           0.869   Prob(JB):                     4.32e-14\n",
      "Kurtosis:                       7.785   Cond. No.                         163.\n",
      "==============================================================================\n",
      "\n",
      "Warnings:\n",
      "[1] Standard Errors assume that the covariance matrix of the errors is correctly specified.\n"
     ]
    }
   ],
   "source": [
    "model = sm.OLS(y_train, X_train)\n",
    "results = model.fit()\n",
    "print(results.summary())"
   ]
  },
  {
   "cell_type": "markdown",
   "metadata": {},
   "source": [
    "The R-squared is 0.973, which is very close to 1 and it means the OLS performs well.\n",
    "\n",
    "If a confidence interval includes 0, then the correspongding variable may not be of predictive value. In this model, Cleanliness, Value and Sleep Quality are such an attributes. Therefore, the important factors that determining the average rating of a hotel are **Location, Rooms and Service**."
   ]
  },
  {
   "cell_type": "code",
   "execution_count": 71,
   "metadata": {
    "collapsed": false
   },
   "outputs": [
    {
     "name": "stdout",
     "output_type": "stream",
     "text": [
      "The MSE of OLS on the test set is 0.002738.\n"
     ]
    }
   ],
   "source": [
    "from sklearn.metrics import mean_squared_error\n",
    "y_pred = results.predict(X_test)\n",
    "MSE_test = mean_squared_error(y_test, y_pred)\n",
    "print ('The MSE of OLS on the test set is %f.'%(MSE_test))"
   ]
  },
  {
   "cell_type": "code",
   "execution_count": 77,
   "metadata": {
    "collapsed": false
   },
   "outputs": [
    {
     "name": "stdout",
     "output_type": "stream",
     "text": [
      "                            OLS Regression Results                            \n",
      "==============================================================================\n",
      "Dep. Variable:              avg_score   R-squared:                       0.971\n",
      "Model:                            OLS   Adj. R-squared:                  0.969\n",
      "Method:                 Least Squares   F-statistic:                     583.4\n",
      "Date:                Thu, 17 Nov 2016   Prob (F-statistic):           1.49e-40\n",
      "Time:                        19:00:07   Log-Likelihood:                 64.003\n",
      "No. Observations:                  57   AIC:                            -120.0\n",
      "Df Residuals:                      53   BIC:                            -111.8\n",
      "Df Model:                           3                                         \n",
      "Covariance Type:            nonrobust                                         \n",
      "==============================================================================\n",
      "                 coef    std err          t      P>|t|      [95.0% Conf. Int.]\n",
      "------------------------------------------------------------------------------\n",
      "Location       0.1436      0.036      4.033      0.000         0.072     0.215\n",
      "Rooms          0.4773      0.055      8.720      0.000         0.368     0.587\n",
      "Service        0.4438      0.082      5.433      0.000         0.280     0.608\n",
      "intercept     -0.3930      0.125     -3.137      0.003        -0.644    -0.142\n",
      "==============================================================================\n",
      "Omnibus:                       13.608   Durbin-Watson:                   2.555\n",
      "Prob(Omnibus):                  0.001   Jarque-Bera (JB):               24.193\n",
      "Skew:                           0.702   Prob(JB):                     5.58e-06\n",
      "Kurtosis:                       5.866   Cond. No.                         95.9\n",
      "==============================================================================\n",
      "\n",
      "Warnings:\n",
      "[1] Standard Errors assume that the covariance matrix of the errors is correctly specified.\n",
      "Training with significant attributes only, MSE of OLS on test set is 0.003735.\n"
     ]
    }
   ],
   "source": [
    "# train again with only significant attributes\n",
    "Xsignif = X[['Location','Rooms', 'Service', 'intercept']]\n",
    "Xsignif_train,Xsignif_test,ysig_train,ysig_test = train_test_split(Xsignif, y, test_size=0.3, random_state=0)\n",
    "model1 = sm.OLS(ysig_train, Xsignif_train)\n",
    "results1 = model1.fit()\n",
    "print (results1.summary())\n",
    "ysig_pred = results1.predict(Xsignif_test)\n",
    "MSEsig = mean_squared_error(ysig_test, ysig_pred)\n",
    "print ('Training with significant attributes only, MSE of OLS on test set is %f.'%(MSEsig))"
   ]
  },
  {
   "cell_type": "markdown",
   "metadata": {},
   "source": [
    "Retrain the model with only significant attributes, the R-squared is 0.971, dropped 0.002, which is still very close to 1. Thus with only Location, Rooms and Service, we are able to predict the average rating of a hotel pretty accurately. The MSE on test set is 0.003735."
   ]
  },
  {
   "cell_type": "markdown",
   "metadata": {},
   "source": [
    "-------"
   ]
  },
  {
   "cell_type": "markdown",
   "metadata": {},
   "source": [
    "** Task 3 (30 pts) **\n",
    "\n",
    "Finally, we will use logistic regression to decide if a hotel is _excellent_ or not. We classify a hotel as _excellent_ if more than **60%** of its ratings are 5 stars. This is a binary attribute on which we can fit a logistic regression model. As before, use the model to analyze the data."
   ]
  },
  {
   "cell_type": "code",
   "execution_count": 111,
   "metadata": {
    "collapsed": false
   },
   "outputs": [
    {
     "data": {
      "text/plain": [
       "Aloft Boston Seaport                             0\n",
       "Americas Best Value Inn                          0\n",
       "Ames Boston Hotel, Curio Collection by Hilton    0\n",
       "BEST WESTERN PLUS Roundhouse Suites              0\n",
       "Battery Wharf Hotel, Boston Waterfront           1\n",
       "dtype: int64"
      ]
     },
     "execution_count": 111,
     "metadata": {},
     "output_type": "execute_result"
    }
   ],
   "source": [
    "df_excellent = pd.Series(excellence)\n",
    "df_excellent.head()"
   ]
  },
  {
   "cell_type": "code",
   "execution_count": 118,
   "metadata": {
    "collapsed": true
   },
   "outputs": [],
   "source": [
    "# get training and test data\n",
    "Xtrain,Xtest,ytrain,ytest = train_test_split(X, df_excellent, test_size=0.3, random_state=0)"
   ]
  },
  {
   "cell_type": "code",
   "execution_count": 127,
   "metadata": {
    "collapsed": false
   },
   "outputs": [
    {
     "name": "stdout",
     "output_type": "stream",
     "text": [
      "Optimization terminated successfully.\n",
      "         Current function value: 0.394224\n",
      "         Iterations 8\n"
     ]
    },
    {
     "data": {
      "text/html": [
       "<table class=\"simpletable\">\n",
       "<caption>Logit Regression Results</caption>\n",
       "<tr>\n",
       "  <th>Dep. Variable:</th>         <td>y</td>        <th>  No. Observations:  </th>  <td>    57</td>  \n",
       "</tr>\n",
       "<tr>\n",
       "  <th>Model:</th>               <td>Logit</td>      <th>  Df Residuals:      </th>  <td>    51</td>  \n",
       "</tr>\n",
       "<tr>\n",
       "  <th>Method:</th>               <td>MLE</td>       <th>  Df Model:          </th>  <td>     5</td>  \n",
       "</tr>\n",
       "<tr>\n",
       "  <th>Date:</th>          <td>Thu, 17 Nov 2016</td> <th>  Pseudo R-squ.:     </th>  <td>0.3807</td>  \n",
       "</tr>\n",
       "<tr>\n",
       "  <th>Time:</th>              <td>19:50:25</td>     <th>  Log-Likelihood:    </th> <td> -22.471</td> \n",
       "</tr>\n",
       "<tr>\n",
       "  <th>converged:</th>           <td>True</td>       <th>  LL-Null:           </th> <td> -36.281</td> \n",
       "</tr>\n",
       "<tr>\n",
       "  <th> </th>                      <td> </td>        <th>  LLR p-value:       </th> <td>4.316e-05</td>\n",
       "</tr>\n",
       "</table>\n",
       "<table class=\"simpletable\">\n",
       "<tr>\n",
       "        <td></td>           <th>coef</th>     <th>std err</th>      <th>z</th>      <th>P>|z|</th> <th>[95.0% Conf. Int.]</th> \n",
       "</tr>\n",
       "<tr>\n",
       "  <th>Location</th>      <td>    0.0673</td> <td>    1.382</td> <td>    0.049</td> <td> 0.961</td> <td>   -2.641     2.775</td>\n",
       "</tr>\n",
       "<tr>\n",
       "  <th>Rooms</th>         <td>   19.9198</td> <td>    6.215</td> <td>    3.205</td> <td> 0.001</td> <td>    7.738    32.101</td>\n",
       "</tr>\n",
       "<tr>\n",
       "  <th>Service</th>       <td>    2.1946</td> <td>    5.424</td> <td>    0.405</td> <td> 0.686</td> <td>   -8.437    12.826</td>\n",
       "</tr>\n",
       "<tr>\n",
       "  <th>Cleanliness</th>   <td>  -17.0128</td> <td>    6.275</td> <td>   -2.711</td> <td> 0.007</td> <td>  -29.312    -4.714</td>\n",
       "</tr>\n",
       "<tr>\n",
       "  <th>Value</th>         <td>   -2.2063</td> <td>    3.491</td> <td>   -0.632</td> <td> 0.527</td> <td>   -9.049     4.636</td>\n",
       "</tr>\n",
       "<tr>\n",
       "  <th>Sleep Quality</th> <td>   -2.3748</td> <td>    3.666</td> <td>   -0.648</td> <td> 0.517</td> <td>   -9.560     4.811</td>\n",
       "</tr>\n",
       "</table>"
      ],
      "text/plain": [
       "<class 'statsmodels.iolib.summary.Summary'>\n",
       "\"\"\"\n",
       "                           Logit Regression Results                           \n",
       "==============================================================================\n",
       "Dep. Variable:                      y   No. Observations:                   57\n",
       "Model:                          Logit   Df Residuals:                       51\n",
       "Method:                           MLE   Df Model:                            5\n",
       "Date:                Thu, 17 Nov 2016   Pseudo R-squ.:                  0.3807\n",
       "Time:                        19:50:25   Log-Likelihood:                -22.471\n",
       "converged:                       True   LL-Null:                       -36.281\n",
       "                                        LLR p-value:                 4.316e-05\n",
       "=================================================================================\n",
       "                    coef    std err          z      P>|z|      [95.0% Conf. Int.]\n",
       "---------------------------------------------------------------------------------\n",
       "Location          0.0673      1.382      0.049      0.961        -2.641     2.775\n",
       "Rooms            19.9198      6.215      3.205      0.001         7.738    32.101\n",
       "Service           2.1946      5.424      0.405      0.686        -8.437    12.826\n",
       "Cleanliness     -17.0128      6.275     -2.711      0.007       -29.312    -4.714\n",
       "Value            -2.2063      3.491     -0.632      0.527        -9.049     4.636\n",
       "Sleep Quality    -2.3748      3.666     -0.648      0.517        -9.560     4.811\n",
       "=================================================================================\n",
       "\"\"\""
      ]
     },
     "execution_count": 127,
     "metadata": {},
     "output_type": "execute_result"
    }
   ],
   "source": [
    "# train logistic regression model on training data\n",
    "logit = sm.Logit(ytrain, Xtrain.drop('intercept', axis=1))\n",
    "result = logit.fit()\n",
    "result.summary()"
   ]
  },
  {
   "cell_type": "code",
   "execution_count": 150,
   "metadata": {
    "collapsed": false
   },
   "outputs": [
    {
     "name": "stdout",
     "output_type": "stream",
     "text": [
      "Logistic regression in predicting the excellent of a hotel,\n",
      "Precision is 0.461538, recall is 0.857143.\n"
     ]
    }
   ],
   "source": [
    "# test the model on test data\n",
    "ypred = result.predict(Xtest.drop('intercept', axis=1))\n",
    "ypred = [1 if y >= 0.1 else 0 for y in ypred] #0.1 is the threshold for determining whether a sample is 0 or 1\n",
    "\n",
    "truePositives = falsePositives = trueNegatives = falseNegatives = 0\n",
    "for i in range(len(ytest)):\n",
    "    if ytest[i]==1 and ypred[i]==1:\n",
    "        truePositives += 1\n",
    "    elif ytest[i]==1:\n",
    "        falseNegatives += 1\n",
    "    elif ypred[i]==1:\n",
    "        falsePositives += 1\n",
    "    else:\n",
    "        trueNegatives +=1\n",
    "\n",
    "if (truePositives + falsePositives) == 0:\n",
    "    precision = 0\n",
    "else:\n",
    "    precision = truePositives / (truePositives + falsePositives)\n",
    "\n",
    "if (truePositives + falseNegatives) == 0:\n",
    "    recall = 0\n",
    "else:\n",
    "    recall = truePositives / (truePositives + falseNegatives)\n",
    "print ('Logistic regression in predicting the excellent of a hotel,\\nPrecision is %f, recall is %f.'%(precision, recall))"
   ]
  },
  {
   "cell_type": "markdown",
   "metadata": {},
   "source": [
    "Using logistic regression, when training with all attributes, the optimization converges after 8 iterations. When testing on the test data, we got precision = 0.461538, recall = 0.857143.\n",
    "From the confidence interval of the logistic model's parameters, only 'Rooms' does not include 0. So retrain the model using only the attribute 'Rooms'."
   ]
  },
  {
   "cell_type": "code",
   "execution_count": 162,
   "metadata": {
    "collapsed": false
   },
   "outputs": [
    {
     "name": "stdout",
     "output_type": "stream",
     "text": [
      "Optimization terminated successfully.\n",
      "         Current function value: 0.659920\n",
      "         Iterations 4\n"
     ]
    },
    {
     "data": {
      "text/html": [
       "<table class=\"simpletable\">\n",
       "<caption>Logit Regression Results</caption>\n",
       "<tr>\n",
       "  <th>Dep. Variable:</th>         <td>y</td>        <th>  No. Observations:  </th>  <td>    57</td> \n",
       "</tr>\n",
       "<tr>\n",
       "  <th>Model:</th>               <td>Logit</td>      <th>  Df Residuals:      </th>  <td>    56</td> \n",
       "</tr>\n",
       "<tr>\n",
       "  <th>Method:</th>               <td>MLE</td>       <th>  Df Model:          </th>  <td>     0</td> \n",
       "</tr>\n",
       "<tr>\n",
       "  <th>Date:</th>          <td>Thu, 17 Nov 2016</td> <th>  Pseudo R-squ.:     </th> <td>-0.03677</td>\n",
       "</tr>\n",
       "<tr>\n",
       "  <th>Time:</th>              <td>20:31:44</td>     <th>  Log-Likelihood:    </th> <td> -37.615</td>\n",
       "</tr>\n",
       "<tr>\n",
       "  <th>converged:</th>           <td>True</td>       <th>  LL-Null:           </th> <td> -36.281</td>\n",
       "</tr>\n",
       "<tr>\n",
       "  <th> </th>                      <td> </td>        <th>  LLR p-value:       </th>  <td>   nan</td> \n",
       "</tr>\n",
       "</table>\n",
       "<table class=\"simpletable\">\n",
       "<tr>\n",
       "    <td></td>       <th>coef</th>     <th>std err</th>      <th>z</th>      <th>P>|z|</th> <th>[95.0% Conf. Int.]</th> \n",
       "</tr>\n",
       "<tr>\n",
       "  <th>Rooms</th> <td>   -0.1263</td> <td>    0.066</td> <td>   -1.912</td> <td> 0.056</td> <td>   -0.256     0.003</td>\n",
       "</tr>\n",
       "</table>"
      ],
      "text/plain": [
       "<class 'statsmodels.iolib.summary.Summary'>\n",
       "\"\"\"\n",
       "                           Logit Regression Results                           \n",
       "==============================================================================\n",
       "Dep. Variable:                      y   No. Observations:                   57\n",
       "Model:                          Logit   Df Residuals:                       56\n",
       "Method:                           MLE   Df Model:                            0\n",
       "Date:                Thu, 17 Nov 2016   Pseudo R-squ.:                -0.03677\n",
       "Time:                        20:31:44   Log-Likelihood:                -37.615\n",
       "converged:                       True   LL-Null:                       -36.281\n",
       "                                        LLR p-value:                       nan\n",
       "==============================================================================\n",
       "                 coef    std err          z      P>|z|      [95.0% Conf. Int.]\n",
       "------------------------------------------------------------------------------\n",
       "Rooms         -0.1263      0.066     -1.912      0.056        -0.256     0.003\n",
       "==============================================================================\n",
       "\"\"\""
      ]
     },
     "execution_count": 162,
     "metadata": {},
     "output_type": "execute_result"
    }
   ],
   "source": [
    "logit1 = sm.Logit(ytrain, Xtrain[['Rooms']])\n",
    "result1 = logit1.fit()\n",
    "result1.summary()"
   ]
  },
  {
   "cell_type": "code",
   "execution_count": 173,
   "metadata": {
    "collapsed": false
   },
   "outputs": [
    {
     "name": "stdout",
     "output_type": "stream",
     "text": [
      "Logistic regression in predicting the excellent of a hotel using only 'Rooms',\n",
      "Precision is 0.181818, recall is 0.571429.\n"
     ]
    }
   ],
   "source": [
    "ypred = result1.predict(Xtest['Rooms'])\n",
    "ypred = [1 if y >= 0.36 else 0 for y in ypred]\n",
    "\n",
    "truePositives = falsePositives = trueNegatives = falseNegatives = 0\n",
    "for i in range(len(ytest)):\n",
    "    if ytest[i]==1 and ypred[i]==1:\n",
    "        truePositives += 1\n",
    "    elif ytest[i]==1:\n",
    "        falseNegatives += 1\n",
    "    elif ypred[i]==1:\n",
    "        falsePositives += 1\n",
    "    else:\n",
    "        trueNegatives +=1\n",
    "\n",
    "if (truePositives + falsePositives) == 0:\n",
    "    precision = 0\n",
    "else:\n",
    "    precision = truePositives / (truePositives + falsePositives)\n",
    "\n",
    "if (truePositives + falseNegatives) == 0:\n",
    "    recall = 0\n",
    "else:\n",
    "    recall = truePositives / (truePositives + falseNegatives)\n",
    "print ('Logistic regression in predicting the excellent of a hotel using only \\'Rooms\\',\\nPrecision is %f, recall is %f.'%(precision, recall))"
   ]
  },
  {
   "cell_type": "markdown",
   "metadata": {},
   "source": [
    "-------"
   ]
  }
 ],
 "metadata": {
  "anaconda-cloud": {},
  "kernelspec": {
   "display_name": "Python [conda root]",
   "language": "python",
   "name": "conda-root-py"
  },
  "language_info": {
   "codemirror_mode": {
    "name": "ipython",
    "version": 3
   },
   "file_extension": ".py",
   "mimetype": "text/x-python",
   "name": "python",
   "nbconvert_exporter": "python",
   "pygments_lexer": "ipython3",
   "version": "3.5.2"
  }
 },
 "nbformat": 4,
 "nbformat_minor": 0
}
